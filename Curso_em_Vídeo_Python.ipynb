{
  "nbformat": 4,
  "nbformat_minor": 0,
  "metadata": {
    "colab": {
      "name": "Curso em Vídeo_Python",
      "provenance": [],
      "collapsed_sections": [
        "dU_BIhmBYKyI",
        "zuYfuQ11nA5G",
        "7ikphfBWxoYF",
        "IbbIVGxMsQQ-",
        "3d6zfpmldIb8",
        "zeQO61EzfJ3s"
      ],
      "authorship_tag": "ABX9TyPVMzJuG0oSNmivtrkpD3yf",
      "include_colab_link": true
    },
    "kernelspec": {
      "name": "python3",
      "display_name": "Python 3"
    }
  },
  "cells": [
    {
      "cell_type": "markdown",
      "metadata": {
        "id": "view-in-github",
        "colab_type": "text"
      },
      "source": [
        "<a href=\"https://colab.research.google.com/github/gersonpas/PythonVsCode2021/blob/master/Curso_em_V%C3%ADdeo_Python.ipynb\" target=\"_parent\"><img src=\"https://colab.research.google.com/assets/colab-badge.svg\" alt=\"Open In Colab\"/></a>"
      ]
    },
    {
      "cell_type": "markdown",
      "metadata": {
        "id": "U0z8ep9q64S8"
      },
      "source": [
        "# **MUNDO 01**"
      ]
    },
    {
      "cell_type": "markdown",
      "metadata": {
        "id": "dU_BIhmBYKyI"
      },
      "source": [
        "# Aula 09 - *Usando Módulos do Python*\n",
        "\n",
        "\n",
        "\n",
        "Resposta dos Exercícios.\n",
        "\n"
      ]
    },
    {
      "cell_type": "markdown",
      "metadata": {
        "id": "r-FQPUhCHYil"
      },
      "source": [
        "**Desafio 22** - *Analizador de Textos.*"
      ]
    },
    {
      "cell_type": "code",
      "metadata": {
        "id": "piDS6b62HRdr"
      },
      "source": [
        "frase = 'Curso em Vídeo Python Otorinolaringologista'\n",
        "print(type(frase))\n",
        "print(frase[15:]) \n",
        "print(len(frase))\n",
        "frase.count('o')\n",
        "'Curso' in(frase)\n",
        "print(frase.replace('Python','Android'))  # substitui Python por Android.\n",
        "print(frase)\n",
        "print(frase.upper())\n",
        "divido = frase.split() #fatia a frase considerando os espaços.\n",
        "print(divido[0])  #mostra a palavra zero. \"Curso\"\n",
        "print(divido[2])  #mostra a palavra dois. \"Vídeo\"\n",
        "print(type(divido))\n",
        "num = 1258.25\n",
        "type(num)\n",
        "print(divido[2][:3])\n",
        "print('Curso' in frase)\n",
        "print(frase.find('\\033[1;33;45mPython'))\n",
        "print(frase.lower().find('python'))\n",
        "len(frase)\n",
        "print(len(divido[4])) #mostra o tamanho da  palavra 4.\n",
        "frase2 = '  Aprenda Python Agora   '  # frase com espaços no início e no fim.\n",
        "print(frase2)\n",
        "len(frase2)   # A frase dois tem 25 caracteres contando os espaços.\n",
        "ret1 = frase2.strip() # Esta função corta os espaços no início e no fim frase.\n",
        "print(ret1)\n",
        "ret2 = frase2.rstrip() # Esta função corta os espaços do fim da frase.\n",
        "print(ret2)\n",
        "ret3 = frase2.lstrip() # Esta função corta os espaços no início da frase."
      ],
      "execution_count": null,
      "outputs": []
    },
    {
      "cell_type": "markdown",
      "metadata": {
        "id": "xFkXQ5egF2an"
      },
      "source": [
        "**Desafio 23** - *Separando digitos de um número.*"
      ]
    },
    {
      "cell_type": "code",
      "metadata": {
        "id": "1O9Cg1nGF43y"
      },
      "source": [
        "num = int(input('Entre com um número: '))\n",
        "u = num //  1 % 10\n",
        "d = num //  10 % 10\n",
        "c = num //  100 % 10\n",
        "m = num //  1000 % 10\n",
        "print('Analizando o número {}'.format(num))\n",
        "print('Unidade: {}'.format(u))\n",
        "print('Dezena: {}'.format(d))\n",
        "print('Centena: {}'.format(c))\n",
        "print('Milhar: {}'.format(m))\n"
      ],
      "execution_count": null,
      "outputs": []
    },
    {
      "cell_type": "markdown",
      "metadata": {
        "id": "Vx_0FoaXJWi2"
      },
      "source": [
        "**Desafio 24**  -  *Verificando as primeiras letras de um texto.*"
      ]
    },
    {
      "cell_type": "code",
      "metadata": {
        "id": "LSoZrtyLJcSD"
      },
      "source": [
        "cid = str(input('Em que cidade você nasceu?')).strip()\n",
        "print(cid[:5].upper() == 'SANTO')\n"
      ],
      "execution_count": null,
      "outputs": []
    },
    {
      "cell_type": "markdown",
      "metadata": {
        "id": "CenZlBVhMs9q"
      },
      "source": [
        "*Desafio 25* -  *Procurando uma String dentro de outra.*\n",
        "\n",
        "\n"
      ]
    },
    {
      "cell_type": "code",
      "metadata": {
        "id": "lfdzGyLuMtvF"
      },
      "source": [
        "nome = str(input('Qual o seu nome completo?')).strip()\n",
        "print(nome.strip())\n",
        "print('silva'in nome.lower())\n",
        "print('Seu nome tem Silva? {}'.format('silva' in nome.lower()))\n"
      ],
      "execution_count": null,
      "outputs": []
    },
    {
      "cell_type": "markdown",
      "metadata": {
        "id": "7YY5CWc2VDzs"
      },
      "source": [
        "*Desafio 26* -  *Primeira e última ocorrência de uma String.*"
      ]
    },
    {
      "cell_type": "code",
      "metadata": {
        "id": "uitVnTajVEf7"
      },
      "source": [
        "frase = str(input('Entre com a frase: ')).upper()\n",
        "print('A letra A aparece {} vezes na frase.'.format(frase.count('A')+1))\n",
        "print('A última letra A aparece na posição {}.'.format(frase.rfind('A')+1))\n"
      ],
      "execution_count": null,
      "outputs": []
    },
    {
      "cell_type": "markdown",
      "metadata": {
        "id": "4-y0qLAVLkCy"
      },
      "source": [
        "*Desafio 27 - Primeiro e último nome de uma pessoa.*"
      ]
    },
    {
      "cell_type": "code",
      "metadata": {
        "id": "gL5b7-u3Lkzi"
      },
      "source": [
        "n = str(input('Entre com o nome completo: ')).split()# ou strip()\n",
        "#nome = n.split() # se usar strip() na linha 01 é necessário a linha 02.\n",
        "print('Muito prazer em te conhecer!')\n",
        "print('Seu primeiro nome é: {} '.format(n[0]))\n",
        "print('Seu último nome é: {}'.format(n[len(n)-1]))\n"
      ],
      "execution_count": null,
      "outputs": []
    },
    {
      "cell_type": "markdown",
      "metadata": {
        "id": "zuYfuQ11nA5G"
      },
      "source": [
        "#Aula 10 - *Condições em Python* (if..else)\n"
      ]
    },
    {
      "cell_type": "code",
      "metadata": {
        "id": "UqLLhxcSOWjN"
      },
      "source": [
        "n1 = float(input('Entre com a primeira nota: '))\n",
        "n2 = float(input('Entre com a segunda nota:'))\n",
        "m = (n1 + n2)/2\n",
        "print('A sua média foi: {:.1f}'.format( m))\n",
        "print('Parabéns' if m >= 6  else 'Estude mais!')"
      ],
      "execution_count": null,
      "outputs": []
    },
    {
      "cell_type": "markdown",
      "metadata": {
        "id": "4Ei4HN3lnbn8"
      },
      "source": [
        "**Desafio 28** - Advinhando Números!"
      ]
    },
    {
      "cell_type": "code",
      "metadata": {
        "id": "udUlriQJnGfu"
      },
      "source": [
        "from random import randint\n",
        "from time import sleep\n",
        "nsort = int(input('Entre com um número entre 1 e 5: '))\n",
        "nrs = randint(1,5)\n",
        "print('Processando...')\n",
        "sleep(2)\n",
        "print('Parabéns você acertou! O número que escolhi foi o {}'.format(nrs) if nsort == nrs else 'Sinto muito, o número que pensei foi o {}'.format(nrs))\n"
      ],
      "execution_count": null,
      "outputs": []
    },
    {
      "cell_type": "markdown",
      "metadata": {
        "id": "kZVq2Nk4nfuc"
      },
      "source": [
        "Desafio 29 - Calculando Multa de Transito."
      ]
    },
    {
      "cell_type": "code",
      "metadata": {
        "id": "AwKFWAlHnGpW"
      },
      "source": [
        "veloc = int(input('Entre com a velocidade do Carro: '))\n",
        "multa = (veloc - 80) * 7\n",
        "print('Você foi multado, e terá que pagar R$ {:.2f} de multa!'.format(multa) if veloc > 80  else 'Parabéns! Continue assim!')\n",
        "\n"
      ],
      "execution_count": null,
      "outputs": []
    },
    {
      "cell_type": "markdown",
      "metadata": {
        "id": "WsGWpGLH6MSq"
      },
      "source": [
        "Desafio 30 - Par ou Impar."
      ]
    },
    {
      "cell_type": "code",
      "metadata": {
        "id": "cHxDXOCZnFb9"
      },
      "source": [
        "prpi = int(input('Entre com um número inteiro: '))\n",
        "resto = prpi % 2\n",
        "print('O número {} é par'.format(prpi)) if resto == 0 else 'O número {} é impar'.format(prpi)\n"
      ],
      "execution_count": null,
      "outputs": []
    },
    {
      "cell_type": "markdown",
      "metadata": {
        "id": "rbRLNE0gIMhH"
      },
      "source": [
        "Desafio 31 - Calculando valor de uma viagem."
      ]
    },
    {
      "cell_type": "code",
      "metadata": {
        "id": "L2r0WcRNIcvi"
      },
      "source": [
        "viag = int(input(\"Entre com distancia em km: \"))\n",
        "if(viag <= 200):\n",
        "    print('O valor da passagem será: R${:.2f}'.format(viag * .50))\n",
        "else:\n",
        "    print('O valor da passagem será: R${:.2f}'.format(viag * .45))\n"
      ],
      "execution_count": null,
      "outputs": []
    },
    {
      "cell_type": "markdown",
      "metadata": {
        "id": "0szY8kb7PkdF"
      },
      "source": [
        "Desafio 32 - Ano Bissexto?"
      ]
    },
    {
      "cell_type": "code",
      "metadata": {
        "id": "EGfGpfsQPj2C"
      },
      "source": [
        "from datetime import date\n",
        "ano = int(input('Entre com o ano: '))\n",
        "if ano == 0:\n",
        "  ano = date.today().year\n",
        "if ano % 4 == 0  and ano % 100 != 0 or ano % 400 == 0:\n",
        "  print('O ano de {} é bissexto'.format(ano))\n",
        "\n",
        "else:\n",
        "    print('O ano de {} não é bissexto'.format(ano))"
      ],
      "execution_count": null,
      "outputs": []
    },
    {
      "cell_type": "markdown",
      "metadata": {
        "id": "VkxNAr4cPzOD"
      },
      "source": [
        "Desafio 33 - Maior e menor entre 3 números."
      ]
    },
    {
      "cell_type": "code",
      "metadata": {
        "id": "O_oeXknGPyzB"
      },
      "source": [
        "a = int(input('Entre com o primeiro número: '))\n",
        "b = int(input('Entre com o segundo número: '))\n",
        "c = int(input('Entre com o terceiro número: '))\n",
        "menor = a  # Verificando o menor número\n",
        "if b<a and b<c:\n",
        "  menor = b\n",
        "if c<a and c<b:\n",
        "  menor = c \n",
        "print('O menor número é o {}'.format(menor))\n",
        "maior = a\n",
        "if b>a and b>c:\n",
        "  maior = b\n",
        "if c>a and c>b:\n",
        "  maior = c\n",
        "print('O maior número é o {}'.format(maior))\n",
        "\n"
      ],
      "execution_count": null,
      "outputs": []
    },
    {
      "cell_type": "markdown",
      "metadata": {
        "id": "vi1Zcf4gQbaq"
      },
      "source": [
        "Desafio 34 - Reajustando sálario em 15 e 10%."
      ]
    },
    {
      "cell_type": "code",
      "metadata": {
        "id": "_p_gc8e1Qazz"
      },
      "source": [
        "sal = float(input('Entre com o sálario: '))\n",
        "if sal<=1250:\n",
        "  novosal = sal * 1.15\n",
        "else:\n",
        "  novosal = sal * 1.10\n",
        "print('O novo salario será: {:.2f} '.format(novosal))\n"
      ],
      "execution_count": null,
      "outputs": []
    },
    {
      "cell_type": "markdown",
      "metadata": {
        "id": "eATdUwZTU4tq"
      },
      "source": [
        "Desafio 35 - 3 retas formam um triagulo?"
      ]
    },
    {
      "cell_type": "code",
      "metadata": {
        "id": "8esQkvb-U4C0"
      },
      "source": [
        "r1 = float(input('Entre com o primeiro segmento:'))\n",
        "r2 = float(input('Entre com o segundo segmento:'))\n",
        "r3 = float(input('Entre com o terceiro segmento:'))\n",
        "if r1< r2 + r3 and r2 < r1 + r3 and r3 < r1 + r2:\n",
        "  print('Os segmentos podem formar triangulo.')\n",
        "else:\n",
        "  print('Os segmentos não podem formar triangulo.')\n"
      ],
      "execution_count": null,
      "outputs": []
    },
    {
      "cell_type": "code",
      "metadata": {
        "id": "EIn0tt6tau3F"
      },
      "source": [
        ""
      ],
      "execution_count": null,
      "outputs": []
    },
    {
      "cell_type": "markdown",
      "metadata": {
        "id": "AmsX1hf9RLKR"
      },
      "source": [
        "# **MUNDO 02**"
      ]
    },
    {
      "cell_type": "markdown",
      "metadata": {
        "id": "GepgQ3xmaunz"
      },
      "source": [
        ""
      ]
    },
    {
      "cell_type": "markdown",
      "metadata": {
        "id": "7ikphfBWxoYF"
      },
      "source": [
        "# Aula 11 - *Cores no terminal do Python*"
      ]
    },
    {
      "cell_type": "code",
      "metadata": {
        "id": "P_Gh5Xf1WpAq"
      },
      "source": [
        "x = 'curso em video'\n",
        "print(x[:5])\n",
        "3*5+4**2\n",
        "s = 'prova de python'\n",
        "print(len(s))\n",
        "print('=*'*20)\n",
        "nome = 'Gerson'\n",
        "cores = {'limpa':'\\033[m',\n",
        "         'azul':'\\033[34m',\n",
        "         'amarelo':'\\033[33m',\n",
        "         'pretobranco':'\\033[7;30m'}\n",
        "print('Olá! Muito prazer em te conhecer, {}{}{}!!'.format(cores['amarelo'], nome, cores['limpa']))"
      ],
      "execution_count": null,
      "outputs": []
    },
    {
      "cell_type": "markdown",
      "metadata": {
        "id": "JWTrFwPbyAml"
      },
      "source": [
        "*Teste Python* - Mundo I"
      ]
    },
    {
      "cell_type": "markdown",
      "metadata": {
        "id": "IbbIVGxMsQQ-"
      },
      "source": [
        "# Aula 12 - Condições Aninhadas (if..elif)"
      ]
    },
    {
      "cell_type": "markdown",
      "metadata": {
        "id": "_nU7AFL9vOyR"
      },
      "source": [
        "Desafio - 36 => Empréstimo Casa:\n",
        "Tempo em anos => ta\n",
        "Valor do empréstimo => ve\n",
        "Salário do mutuário => sal\n",
        "Valor da prestação => vp = ve/ta\n",
        "30% do salário => sal30 = sal * 30 / 100"
      ]
    },
    {
      "cell_type": "markdown",
      "metadata": {
        "id": "HevguccQvDt7"
      },
      "source": [
        ""
      ]
    },
    {
      "cell_type": "code",
      "metadata": {
        "id": "gdvbwzbUsPVV"
      },
      "source": [
        "ta = int(input('Entre com tempo em anos: '))\n",
        "ve = int(input('Entre com o valor do empréstimo: '))\n",
        "sal = int(input('Entre com o salário: '))\n",
        "vp = ve/ta\n",
        "sal30 = sal * 30/100\n",
        "print('O valor da prestação será: {} 30% salário é: {}'.format(vp, sal30))\n",
        "print('Parabéns! Crédito aprovado' if vp <= sal30  else 'Crédito Reprovado')\n"
      ],
      "execution_count": null,
      "outputs": []
    },
    {
      "cell_type": "markdown",
      "metadata": {
        "id": "6u9HoVutMh_K"
      },
      "source": [
        "Desafio 37 => Convertendo Número Decimal para Binário, Octal ou Hexadecimal"
      ]
    },
    {
      "cell_type": "code",
      "metadata": {
        "id": "JJf-H6vxMhWz"
      },
      "source": [
        "'''\n",
        "def decimal_para_binario(decimal):\n",
        "\tbinario = ''\t\n",
        "\twhile decimal > 0:\n",
        "\t\tbinario+= str(decimal%2)\n",
        "\t\tdecimal//= 2\n",
        "\treturn binario[::-1]\n",
        "num = int(input('Entre com número para converter para binário: '))\n",
        "res = decimal_para_binario(num)\n",
        "print(res)\n",
        "'''\n",
        "num = int(input('Entre com número: '))\n",
        "print(bin(num)[2:])\n",
        "print(oct(num)[2:])\n",
        "print(hex(num)[2:])"
      ],
      "execution_count": null,
      "outputs": []
    },
    {
      "cell_type": "markdown",
      "metadata": {
        "id": "rdd5tWknM83p"
      },
      "source": [
        "Desafio 38 => Comparando Dois Números"
      ]
    },
    {
      "cell_type": "code",
      "metadata": {
        "id": "wxB7GpYgM8A5"
      },
      "source": [
        "n1 = int(input('Primeiro número: '))\n",
        "n2 = int(input('Segundo Número: '))\n",
        "if n1 > n2:\n",
        "  print('O primeiro valor é maior')\n",
        "elif n2 > n1:\n",
        "  print('O segundo valor é maior')\n",
        "else:\n",
        "  print('Os dois valores são iguais')\n"
      ],
      "execution_count": null,
      "outputs": []
    },
    {
      "cell_type": "markdown",
      "metadata": {
        "id": "X9Szz9thGTrW"
      },
      "source": [
        "Desafio 39 => Alistamento Militar (adiantado, na hora ou atrasado.)"
      ]
    },
    {
      "cell_type": "code",
      "metadata": {
        "id": "UWR3CEGyG7ls"
      },
      "source": [
        "from datetime import date\n",
        "atual = date.today().year\n",
        "nasc = int(input('Ano de nascimento: '))\n",
        "idade = atual - nasc\n",
        "print('Quem nasceu em {} tem {} anos em {}.'.format(nasc, idade, atual))\n",
        "if idade == 18:\n",
        "  print('Você tem que se alistar agora!')\n",
        "elif idade < 18:\n",
        "  alist = 18 - idade\n",
        "  print('Você tem {} anos e terá que se alistar daqui a {} anos.'.format(idade, alist))\n",
        "elif idade - 18:\n",
        "  print('Você tem {} anos e já deveria ter se alistado há {} anos!'.format(idade, idade - 18))"
      ],
      "execution_count": null,
      "outputs": []
    },
    {
      "cell_type": "markdown",
      "metadata": {
        "id": "m_noh67bHBGu"
      },
      "source": [
        "Desafio 40 => Nota Média de um Aluno (Reprovado, recuperação ou Aprovado)"
      ]
    },
    {
      "cell_type": "code",
      "metadata": {
        "id": "5F-ZNmd-GTG-"
      },
      "source": [
        "nota1 = float(input('Primeira Nota:'))\n",
        "nota2 = float(input('Segunda Nota: '))\n",
        "média = (nota1 + nota2)/2\n",
        "print('Tirando {:.2f} e {:.2f} a média foi: {:.2}'.format(nota1, nota2, média))\n",
        "if 7 > média >= 5:\n",
        "  print('O aluno está de RECUPERAÇÃO.')\n",
        "elif média < 5:\n",
        "  print('O aluno está REPROVADO.')\n",
        "elif média >= 7:\n",
        "  print('O aluno está APROVADO.')"
      ],
      "execution_count": null,
      "outputs": []
    },
    {
      "cell_type": "markdown",
      "metadata": {
        "id": "rC1ae-VYNLVM"
      },
      "source": [
        "Desafio 41 => Classificando Atletas.\n",
        "*   Até 9 anos : Mirim\n",
        "*   Até 14 anos: Infantil\n",
        "*   Até 19 anos: Júnior\n",
        "*   Até 25 anos: Sênior\n",
        "*   Acima de 25 anos: Master"
      ]
    },
    {
      "cell_type": "code",
      "metadata": {
        "id": "uxR-iupyNK1T"
      },
      "source": [
        "from datetime import date\n",
        "atual = date.today().year\n",
        "nascimento = int(input('Entre com o ano de nascimento: '))\n",
        "idade = atual - nascimento\n",
        "if idade <= 9:\n",
        "  clas = 'MIRIM'\n",
        "elif idade <= 14:\n",
        "  clas = 'INFANTIL'\n",
        "elif idade <= 19:\n",
        "  clas = 'JUNIOR'\n",
        "elif idade <= 25:\n",
        "  clas = 'SÊNIOR'\n",
        "else:\n",
        "  clas = 'MASTER'\n",
        "print('O atleta tem {} anos e está classificado como {}'.format(idade, clas))\n"
      ],
      "execution_count": null,
      "outputs": []
    },
    {
      "cell_type": "markdown",
      "metadata": {
        "id": "J-JCq0zI9ts-"
      },
      "source": [
        "Desafio 42 => Repetição do exerc. 35 (equilatero, isoceles, escaleno)"
      ]
    },
    {
      "cell_type": "code",
      "metadata": {
        "id": "iAcLcU5Z9swp"
      },
      "source": [
        "r1 = float(input('Entre com o primeiro segmento:'))\n",
        "r2 = float(input('Entre com o segundo segmento:'))\n",
        "r3 = float(input('Entre com o terceiro segmento:'))\n",
        "if r1< r2 + r3 and r2 < r1 + r3 and r3 < r1 + r2:\n",
        "  print('Os segmentos formam um triangulo ', end ='')\n",
        "  if  r1 == r2 == r3:\n",
        "    print(\"EQUILÁTERO!\")\n",
        "  elif r1 != r2 != r3 != r1:\n",
        "    print('ESCALENO!')\n",
        "  else:\n",
        "    print('ISÓCELES!')\n",
        "else:\n",
        "  print('Os segmentos não podem formar triangulo.')\n",
        "\n"
      ],
      "execution_count": null,
      "outputs": []
    },
    {
      "cell_type": "markdown",
      "metadata": {
        "id": "AQaW0GTM-IHf"
      },
      "source": [
        "Desafio 43 => Cálculo do IMC.\n",
        "\n",
        "*   Abaixo de 18,5: Abaixo do peso\n",
        "*   Entre 18,5 até 25: Peso Ideal\n",
        "*   Entre 25 até 30: Sobrepeso.\n",
        "*   Entre 30 até 40: Obsidade.\n",
        "*   Acima de 40: Obsidade Mórbida.\n"
      ]
    },
    {
      "cell_type": "code",
      "metadata": {
        "id": "H6YAe3vvt1kN"
      },
      "source": [
        "peso = float(input('Entre com o seu peso em Kg:'))\n",
        "alt = float(input('Entre com sua altura em (M): '))\n",
        "imc = peso / alt **2\n",
        "print('Seu IMC é: {:.2f}'.format(imc))\n",
        "print('Você está abaixo do peso' if  imc <= 18.5 else 'Ideal' if imc <= 25 \n",
        "      else 'Sobrepeso' if imc <=30 else 'Obeso' if imc <= 40 else 'Morbido') \n"
      ],
      "execution_count": null,
      "outputs": []
    },
    {
      "cell_type": "markdown",
      "metadata": {
        "id": "35AzBJpuHyJF"
      },
      "source": [
        "Desafio 44 => Valor de um Produto. \n",
        "à vista: 10% de desconto.\n",
        "no cartão a vista: 5% de desconto.\n",
        "Até 2X no cartão: Preço normal.\n",
        "3X ou mais no cartão: 20% de Juros."
      ]
    },
    {
      "cell_type": "code",
      "metadata": {
        "id": "0sRfZmx9HxvS"
      },
      "source": [
        "print('{:=^40}'.format(' LOJAS ARAUJO '))\n",
        "print('=='*20)\n",
        "preço = float(input('Entre com o preço das compras: '))\n",
        "print('''FORMAS DE PAGAMENTO\n",
        "[1] à vista dinheiro/ cheque\n",
        "[2] à vista no cartão\n",
        "[3] 2X no cartão\n",
        "[4] 3X ou mais no cartão''')\n",
        "opção = int(input('Qual a opção de pagamento?: '))\n",
        "if opção == 1:\n",
        "    total = preço - (preço *10/100)\n",
        "    print('Você pagará o valor à vista de R${:.2f} com desconto de 10%.'.format(total))\n",
        "elif opção == 2:\n",
        "    total = preço - (preço * 5/100)\n",
        "    print('Você pagará o valor à vista no cartão de R${:.2f} com desconto de 5%.'.format(total))\n",
        "elif opção == 3: \n",
        "    total = preço\n",
        "    parcela = total/2\n",
        "    print('Sua compra será parcelada em 2X de R${:.2f} SEM JUROS.'.format(parcela))\n",
        "    print('Sua compra de R${:.2f} vai custar R${:.2f} no final.'.format(preço, total))\n",
        "elif opção == 4:\n",
        "  total = preço + (preço * 20/100)\n",
        "  totparc = int(input('Quantas parcelas? '))\n",
        "  parcela = total / totparc\n",
        "  print('Sua compra será parcelada em {}X de R${:.2f} com juros.'.format(totparc, parcela))\n",
        "  print('Sua compra de R${:.2f} vai custar R${:.2f} no final.'.format(preço, total))\n",
        "\n",
        " \n"
      ],
      "execution_count": null,
      "outputs": []
    },
    {
      "cell_type": "markdown",
      "metadata": {
        "id": "WVdqadRmIthS"
      },
      "source": [
        "Desafio 45 => Jogo de Jokenpô. (Pedra, Papel e Tesoura)"
      ]
    },
    {
      "cell_type": "code",
      "metadata": {
        "id": "qYK3mT7cItCa"
      },
      "source": [
        "from random import randint\n",
        "from time import sleep\n",
        "itens = ('Pedra', 'Papel', 'Tesoura')\n",
        "computador = randint(0,2)\n",
        "print('''Suas Opções:\n",
        "[0] PEDRA\n",
        "[1] PAPEL\n",
        "[2] TESOURA''')\n",
        "jogador = int(input('Qual é a sua jogada? '))\n",
        "print('JO')\n",
        "sleep(1)\n",
        "print('KEN')\n",
        "sleep(1)\n",
        "print('PO!!!')\n",
        "print('-='* 15)\n",
        "print('   O Coputador jogou {}'.format(itens[computador]))\n",
        "print('   O jogador jogou {}'.format(itens[jogador]))\n",
        "print('-='* 15)\n",
        "if computador == 0:  # O Computador jogou PEDRA\n",
        "  if jogador == 0:\n",
        "    print('{:=^30}'.format(' EMPATE! '))\n",
        "  elif jogador == 1:\n",
        "    print('{:=^30}'.format(' JOGADOR VENCEU '))\n",
        "  elif jogador == 2:\n",
        "    print('{:=^30}'.format(' COMPUTADOR VENCEU '))\n",
        "  else:\n",
        "    print('JOGADA INVALIDA!')\n",
        "elif computador == 1:  # O Computador jogou PAPEL\n",
        " if jogador == 0:\n",
        "   print('{:=^30}'.format(' COMPUTADOR VENCEU '))\n",
        " elif jogador == 1:\n",
        "    print('{:=^30}'.format(' EMPATE '))\n",
        " elif jogador == 2:\n",
        "    print('{:=^30}'.format(' JOGADOR VENCEU '))\n",
        " else:\n",
        "    print('JOGADA INVALIDA!')\n",
        "elif computador == 2:  # O Computador jogou TESOURA\n",
        " if jogador == 0:\n",
        "   print('{:=^30}'.format(' JOGADOR VENCEU '))\n",
        " elif jogador == 1:\n",
        "    print('{:=^30}'.format(' COMPUTADOR VENCEU '))\n",
        " elif jogador == 2:\n",
        "    print('{:=^30}'.format(' EMPATE '))\n",
        " else:\n",
        "    print('JOGADA INVALIDA!')\n"
      ],
      "execution_count": null,
      "outputs": []
    },
    {
      "cell_type": "code",
      "metadata": {
        "id": "dfCms8kYdLQ2"
      },
      "source": [
        ""
      ],
      "execution_count": null,
      "outputs": []
    },
    {
      "cell_type": "markdown",
      "metadata": {
        "id": "3d6zfpmldIb8"
      },
      "source": [
        "# AULA 13 - Estruturas de Repetição."
      ]
    },
    {
      "cell_type": "markdown",
      "metadata": {
        "id": "Q0E9qVIeTuSN"
      },
      "source": [
        "**Exercício 46** - Faça um programa que mostre na tela uma contagem regressiva para o estouro de fogos de artifício. Indo de 10 até 0, com uma pausa de 1 segundo entre eles. "
      ]
    },
    {
      "cell_type": "code",
      "metadata": {
        "id": "8Xso_wUATtRq"
      },
      "source": [
        "from time import sleep\n",
        "for contagem in range(10,-1,-1):\n",
        "  print(contagem)\n",
        "  sleep(0.5)\n",
        "print('BUM! BUM! POOOW!')\n"
      ],
      "execution_count": null,
      "outputs": []
    },
    {
      "cell_type": "markdown",
      "metadata": {
        "id": "oWDQRcUedmQX"
      },
      "source": [
        "**Exercício 47** - Crie um programa que mostre na tela todos os números pares que estão no intervalo entre 1 e 50."
      ]
    },
    {
      "cell_type": "code",
      "metadata": {
        "id": "RrW0PNTmdlCK"
      },
      "source": [
        "'''\n",
        "for n in range(1,51):\n",
        "  print('.', end='')\n",
        "  if n % 2 == 0:\n",
        "    print(n, end=' ')\n",
        "print('ACABOU!')\n",
        "'''\n",
        "for n in range(2, 51, 2):\n",
        "  print(n, end=' ') # imprime os números lado a lado.\n",
        "print('ACABOU!')\n"
      ],
      "execution_count": null,
      "outputs": []
    },
    {
      "cell_type": "markdown",
      "metadata": {
        "id": "lqqjMf6Qd0l2"
      },
      "source": [
        "**Exercício 48** - Faça um programa que calcule a soma entre todos os números ímpares que são múltiplos de três, e que se encontram no intervalo de 1 até 500."
      ]
    },
    {
      "cell_type": "code",
      "metadata": {
        "id": "4yeNQvPQd0Br",
        "colab": {
          "base_uri": "https://localhost:8080/"
        },
        "outputId": "4c0d8dc1-3b7d-48b8-9135-fd39fcb252b7"
      },
      "source": [
        "soma = 0\n",
        "cont = 0\n",
        "for n in range(1, 501, 2):\n",
        "  if n % 3 == 0:\n",
        "    soma += n\n",
        "    cont += 1\n",
        "print('A soma de todos {} valores solicitados é {}'.format(cont, soma))"
      ],
      "execution_count": null,
      "outputs": [
        {
          "output_type": "stream",
          "text": [
            "A soma de todos 83 valores solicitados é 20667\n"
          ],
          "name": "stdout"
        }
      ]
    },
    {
      "cell_type": "markdown",
      "metadata": {
        "id": "PJJvjAgEd-Pz"
      },
      "source": [
        "**Exercício 49** -  Refaça o exercício 09, mostrando a tabuada de um número que o usuário escolher, só que agora utilizando um laço for."
      ]
    },
    {
      "cell_type": "code",
      "metadata": {
        "id": "IV8WNrWfd91T"
      },
      "source": [
        "num = int(input('Digite um número para ver sua tabuada: '))\n",
        "for n in range(1, 11):\n",
        "  print('{} X {} = {}'.format(num, n , num*n))\n"
      ],
      "execution_count": null,
      "outputs": []
    },
    {
      "cell_type": "markdown",
      "metadata": {
        "id": "6cVeB9HpeDI7"
      },
      "source": [
        "**Exercício 50** -  Faça um programa que leia 6 números inteiros e mostre a soma apenas daqueles que forem pares. Se o valor digitado for impar, desconsidere-o."
      ]
    },
    {
      "cell_type": "code",
      "metadata": {
        "id": "MqZ3KecAeCuv"
      },
      "source": [
        "soma = 0\n",
        "for n in range(1, 7):\n",
        "  num = int(input('Entre com um numero inteiro: '))\n",
        "  if num % 2 == 0:\n",
        "    soma += num\n",
        "print('A soma dos pares é {}'. format(soma))"
      ],
      "execution_count": null,
      "outputs": []
    },
    {
      "cell_type": "markdown",
      "metadata": {
        "id": "Q99pndm5eI6R"
      },
      "source": [
        "**Exercício 51** - Desenvolva um programa que leia o primeiro termo de uma PA. No final, mostre os 10 primeiros termos dessa progressão."
      ]
    },
    {
      "cell_type": "code",
      "metadata": {
        "id": "8av0EEU_eIfi"
      },
      "source": [
        "print('{:=^40}'.format(' 10 TERMOS DE UMA PA '))\n",
        "first = int(input('Primeiro Termo: '))\n",
        "razao =  int(input('Entre com a razão: '))\n",
        "décimo = first + (11 - 1) * razao\n",
        "for n in range(first, décimo, razao):\n",
        "    print('\\033[33m{}'.format(n),end=\" | \")\n",
        "print('FIM')\n"
      ],
      "execution_count": null,
      "outputs": []
    },
    {
      "cell_type": "markdown",
      "metadata": {
        "id": "n4SXxr0QeMy1"
      },
      "source": [
        "**Exercício 52** - Faça um programa que leia um número inteiro e diga se ele é ou não um número primo."
      ]
    },
    {
      "cell_type": "code",
      "metadata": {
        "id": "vjXEvbQReMQt"
      },
      "source": [
        "num = int(input('Entre com um número: '))\n",
        "tot = 0\n",
        "for n in range(1, num + 1):\n",
        "  if num % n == 0:\n",
        "    print('\\033[33m', end='')\n",
        "    tot += 1\n",
        "  else:\n",
        "    print('\\033[30m', end='')\n",
        "  print('{}'.format(n), end='\\033[34m||')\n",
        "print('\\033[33m \\nO número {} foi divisível {} vezes'.format(num, tot))\n",
        "\n",
        "if tot == 2:\n",
        "    print('E por isso ele é primo!')\n",
        "else:\n",
        "  print('E por isso não é primo!')\n"
      ],
      "execution_count": null,
      "outputs": []
    },
    {
      "cell_type": "markdown",
      "metadata": {
        "id": "ASHHoRKz3x2G"
      },
      "source": [
        "**Exercício 53** - PALÍNDROMO"
      ]
    },
    {
      "cell_type": "code",
      "metadata": {
        "id": "mtpt1fXV3xN_"
      },
      "source": [
        "frase = str(input('Digite uma frase: '))\n",
        "palavras = frase.split()\n",
        "print('Você digitou a frase: {}'.format(frase))\n",
        "junto = ''.join(palavras)\n",
        "inverso = junto[::-1]\n",
        "print('O inverso de {} é {}'.format(junto, inverso))\n",
        "if inverso == junto:\n",
        "  print('Temos um palindromo')\n",
        "else:\n",
        "  print('A frase não é um palindromo!')\n",
        "  "
      ],
      "execution_count": null,
      "outputs": []
    },
    {
      "cell_type": "markdown",
      "metadata": {
        "id": "kGp4c--eeRIE"
      },
      "source": [
        "**Exercício 54** - Crie um programa que leia o ano de nascimento de sete pessoas. No final, mostre quantas pessoas ainda não atingiram a maioridade e quantas já são maiores."
      ]
    },
    {
      "cell_type": "code",
      "metadata": {
        "id": "_jZsOe2JeQiU"
      },
      "source": [
        "from datetime import date\n",
        "atual = date.today().year\n",
        "totmaior = 0\n",
        "totmenor = 0\n",
        "for pess in range(1,8):\n",
        "  nasc = int(input('Ano de nascimento {}? '.format(pess)))\n",
        "  idade = atual - nasc \n",
        "  if idade >= 21:\n",
        "    totmaior += 1\n",
        "  else:\n",
        "    totmenor += 1\n",
        "print('{} Pessoas maiores de idade.'.format(totmaior))\n",
        "print('{} Pessoas menores de idade.'.format(totmenor))\n",
        "\n"
      ],
      "execution_count": null,
      "outputs": []
    },
    {
      "cell_type": "markdown",
      "metadata": {
        "id": "7SHT1LJ_eUrG"
      },
      "source": [
        "**Exercício 55** - Maior e Menor **Valor** de uma Sequência qualquer."
      ]
    },
    {
      "cell_type": "code",
      "metadata": {
        "id": "WgBOkRw8eUPW"
      },
      "source": [
        "maior = 0 \n",
        "menor = 0\n",
        "for p in range(1,6):\n",
        "  peso = float(input('Peso da {}ª pessoa '.format(p)))\n",
        "  if p == 1:\n",
        "    maior = peso\n",
        "    menor = peso\n",
        "  else:\n",
        "    if peso > maior:\n",
        "      maior = peso\n",
        "    if peso <  menor:\n",
        "      menor = peso\n",
        "print('O maior peso lido foi de {}Kg'.format(maior))\n",
        "print('O menor peso lido foi de {}Kg'.format(menor))\n",
        "\n"
      ],
      "execution_count": null,
      "outputs": []
    },
    {
      "cell_type": "markdown",
      "metadata": {
        "id": "p8GydT7OeZgI"
      },
      "source": [
        "**Exercício 56** - Analizador de Dados Completo.\n",
        "1.   Leia o nome e a idade de 4 pessoas.\n",
        "2.   Mostre a média de idade do grupo.\n",
        "3.   Mostre quantas mulheres tem menos de 20 anos.\n",
        "4.   Qual o nome do homem mais velho.\n"
      ]
    },
    {
      "cell_type": "code",
      "metadata": {
        "id": "sJh7to8heZKS"
      },
      "source": [
        "somaidade = 0\n",
        "mediaIdade = 0\n",
        "maioridade = 0\n",
        "nomevelho = ''\n",
        "for p in range(1,5):\n",
        "  print('------- {}ª PESSOA ---------'.format(p))\n",
        "  nome = str(input('Nome: ')).strip()\n",
        "  idade = int(input('Idade: '))\n",
        "  sexo = str(input('Sexo [M/F]: ')).strip()\n",
        "  somaidade += idade\n",
        "  if p == 1 and sexo in'Mm':\n",
        "      maioridade = idade\n",
        "      nomevelho = nome\n",
        "  if sexo in 'Mm' and idade > maioridade:\n",
        "      maioridade = idade\n",
        "      nomevelho = nome\n",
        "\n",
        "mediaIdade = somaidade/4\n",
        "print('A média de idade do grupo é de {} anos.'.format(mediaIdade))\n",
        "print('O homem mais velho tem {} anos e se chama {}'.format(maioridade, nomevelho))"
      ],
      "execution_count": null,
      "outputs": []
    },
    {
      "cell_type": "markdown",
      "metadata": {
        "id": "zeQO61EzfJ3s"
      },
      "source": [
        "# AULA 14 - ESTRUTURAS DE REPETIÇÃO - (While)"
      ]
    },
    {
      "cell_type": "markdown",
      "metadata": {
        "id": "REUCw6zufku1"
      },
      "source": [
        "Exercício - 57 - Validação de Dados.\n",
        "*   Informar o sexo da pessoa.\n",
        "*   Validar a entrada, enquanto o usuário não digitar corretamente não permitir o prosseguimento do programa.\n",
        "\n"
      ]
    },
    {
      "cell_type": "code",
      "metadata": {
        "id": "ZttNZxIqfICK"
      },
      "source": [
        "sexo = str(input('Informe seu sexo: ')).strip().upper()[0]\n",
        "while sexo not in 'MmFf ':\n",
        "  sexo = str(input('Dados Inválidos. Por favor, informe seu sexo: ')).strip().upper()[0]\n",
        "print('Sexo {} Registrado com Sucesso'.format(sexo))\n"
      ],
      "execution_count": null,
      "outputs": []
    },
    {
      "cell_type": "markdown",
      "metadata": {
        "id": "BOKujIvygDiO"
      },
      "source": [
        "Exercício 58  - Jogo da Adivinhação v2.0"
      ]
    },
    {
      "cell_type": "code",
      "metadata": {
        "id": "2Aw1aSLugCzt"
      },
      "source": [
        "from random import randint\n",
        "computador = randint(0,7)\n",
        "print('Adivinhe o número que pensei? ')\n",
        "acertou = False\n",
        "palpites = 0\n",
        "while not acertou:\n",
        "  jogador = int(input('Repita o palpite: '))\n",
        "  palpites += 1\n",
        "  if jogador == computador:\n",
        "    acertou = True\n",
        "print('Acertou com {} Tentativas!'.format(palpites))\n"
      ],
      "execution_count": null,
      "outputs": []
    },
    {
      "cell_type": "markdown",
      "metadata": {
        "id": "_nzEFKimgV_5"
      },
      "source": [
        "Exercício 59 - Criando um Menu de Opções.\n",
        "1.   Crie um programa que leia dois valores.\n",
        "2.   Depois mostre na tela o seguinte Menu:\n",
        "*   [1] Somar\n",
        "*   [2] Multiplicar\n",
        "*   [3] Maior valor\n",
        "*   [4]Novos números\n",
        "*   [5] Sair do Programa\n"
      ]
    },
    {
      "cell_type": "code",
      "metadata": {
        "id": "KlHPTIEtgVcU"
      },
      "source": [
        "n1 = int(input('Primeiro Valor'))\n",
        "n2 = int(input('Segundo Valor'))\n",
        "opção = 0\n",
        "while opção != 5:\n",
        "  print('''  [1] Somar\n",
        "  [2] Multiplicar\n",
        "  [3] Maior Valor\n",
        "  [4] Novos Números\n",
        "  [5] Sair do Programa''')\n",
        "  opção = int(input('Qual é a sua opção? '))\n",
        "  if opção == 1:\n",
        "    soma = n1 + n2\n",
        "    print('A soma de {} + {} é: {} '.format(n1,n2, soma))\n",
        "  elif opção ==2:\n",
        "    produto = n1 * n2\n",
        "    print('O resultado de {} X {} é: {} '.format(n1,n2, produto))\n",
        "  elif opção == 3:\n",
        "    if n1 > n2:\n",
        "      maior = n1\n",
        "    else:\n",
        "      maior = n2\n",
        "    print('Entre {} e {} o maior é {}'.format(n1, n2, maior)) \n",
        "  elif opção == 4:\n",
        "    print('Informe os números novamente: ')\n",
        "    n1 = int(input('Primeiro valor:'))\n",
        "    n2 = int(input('Segundo valor: '))\n",
        "  elif opção == 5:\n",
        "    print('Finalizando...')\n",
        "  else:\n",
        "    print('Opção Inválida!. Tente Novamente.')\n",
        "\n",
        "print('Fim do Programa!')\n",
        "\n"
      ],
      "execution_count": null,
      "outputs": []
    },
    {
      "cell_type": "markdown",
      "metadata": {
        "id": "g734Vm6ZgzmN"
      },
      "source": [
        "Exercício 60 - Cálculo Fatorial."
      ]
    },
    {
      "cell_type": "code",
      "metadata": {
        "id": "Eu1MvcFlgzQF"
      },
      "source": [
        "from math import factorial\n",
        "n = int(input('Digite um número para calcular seu fatorial: '))\n",
        "fact = factorial(n)\n",
        "\n",
        "c = n\n",
        "print('Calculando {}! = '.format(n),end='')\n",
        "while c > 0: \n",
        "  print('{}'.format(c), end='')\n",
        "  print(' X ' if c > 1 else ' = {}'.format(fact), end='')\n",
        "  c -= 1 # tira o 1 do c para não ficar num loop infinito.\n"
      ],
      "execution_count": null,
      "outputs": []
    },
    {
      "cell_type": "markdown",
      "metadata": {
        "id": "aPhOdp5DhEQx"
      },
      "source": [
        "Exercício 61 - Progressão Aritmética v2.0"
      ]
    },
    {
      "cell_type": "code",
      "metadata": {
        "id": "IuBbAQJshD0W"
      },
      "source": [
        "print('Gerador de PA')\n",
        "print('-='* 15)\n",
        "primeiro = int(input('Primeiro termo: '))\n",
        "razão = int(input('Razao da PA: '))\n",
        "termo = primeiro\n",
        "cont = 1\n",
        "while cont <= 10:\n",
        "  print('{} →'.format(termo), end='')\n",
        "  termo += razão\n",
        "  cont += 1\n",
        "print('FIM')\n"
      ],
      "execution_count": null,
      "outputs": []
    },
    {
      "cell_type": "markdown",
      "metadata": {
        "id": "mubTcwnphQm7"
      },
      "source": [
        "Exercício 62 - Super Progressão Aritmética v3.0"
      ]
    },
    {
      "cell_type": "code",
      "metadata": {
        "id": "sOzRQXhzhQMe"
      },
      "source": [
        "print('Gerador de PA')\n",
        "print('-='* 15)\n",
        "primeiro = int(input('Primeiro termo: '))\n",
        "razão = int(input('Razao da PA: '))\n",
        "termo = primeiro\n",
        "cont = 1\n",
        "total = 0\n",
        "mais = 10\n",
        "while mais != 0:\n",
        "  total += mais  \n",
        "  while cont <= total:\n",
        "    print('{} →'.format(termo), end='')\n",
        "    termo += razão\n",
        "    cont += 1\n",
        "  print('PAUSA')\n",
        "  mais = int(input('Quantos termos você quer mostrar a mais? '))\n",
        "print('Progressão finalizada com {} termos mostrados.'.format(total))\n",
        "\n"
      ],
      "execution_count": null,
      "outputs": []
    },
    {
      "cell_type": "markdown",
      "metadata": {
        "id": "XlFLDuXAhcTe"
      },
      "source": [
        "Exercício 63 - Sequência de Fibonacci v1.0"
      ]
    },
    {
      "cell_type": "code",
      "metadata": {
        "id": "w0imdxAKhb4N"
      },
      "source": [
        "print('-'*30)\n",
        "print('Sequência de Fibonacci')\n",
        "print('-'*30)\n",
        "n = int(input('Quantos termos você quer mostrar? '))\n",
        "t1 = 0\n",
        "t2 = 1\n",
        "print('~'*30)\n",
        "print('{} → {}'.format(t1, t2), end='')\n",
        "cont = 3\n",
        "while cont <= n:\n",
        "  t3 = t1 + t2\n",
        "  print(' → {}'.format(t3),end='')\n",
        "  t1 = t2\n",
        "  t2 = t3\n",
        "  cont += 1\n",
        "print('→ FIM')\n"
      ],
      "execution_count": null,
      "outputs": []
    },
    {
      "cell_type": "markdown",
      "metadata": {
        "id": "VAdEIdMqbHKW"
      },
      "source": [
        "FIBONACCI - v1.1"
      ]
    },
    {
      "cell_type": "code",
      "metadata": {
        "colab": {
          "base_uri": "https://localhost:8080/"
        },
        "id": "lpVCtljkbGtv",
        "outputId": "e5efa161-030e-4c67-adbe-2a4d8a702516"
      },
      "source": [
        "print(' ')\n",
        "print('{:=^54}'.format('FIBONACCI'))\n",
        "anterior = 0\n",
        "proxima = 1\n",
        "soma = 0\n",
        "for n in range(0, 18):\n",
        "    print((f'\\033[33m{anterior}'),end=' ')\n",
        "    soma = proxima + anterior\n",
        "    anterior = proxima\n",
        "    proxima = soma\n",
        "print(' ')\n",
        "print('\\033[37m='*54)\n",
        "print(' ')\n"
      ],
      "execution_count": null,
      "outputs": [
        {
          "output_type": "stream",
          "text": [
            " \n",
            "======================FIBONACCI=======================\n",
            "\u001b[33m0 \u001b[33m1 \u001b[33m1 \u001b[33m2 \u001b[33m3 \u001b[33m5 \u001b[33m8 \u001b[33m13 \u001b[33m21 \u001b[33m34 \u001b[33m55 \u001b[33m89 \u001b[33m144 \u001b[33m233 \u001b[33m377 \u001b[33m610 \u001b[33m987 \u001b[33m1597  \n",
            "\u001b[37m=\u001b[37m=\u001b[37m=\u001b[37m=\u001b[37m=\u001b[37m=\u001b[37m=\u001b[37m=\u001b[37m=\u001b[37m=\u001b[37m=\u001b[37m=\u001b[37m=\u001b[37m=\u001b[37m=\u001b[37m=\u001b[37m=\u001b[37m=\u001b[37m=\u001b[37m=\u001b[37m=\u001b[37m=\u001b[37m=\u001b[37m=\u001b[37m=\u001b[37m=\u001b[37m=\u001b[37m=\u001b[37m=\u001b[37m=\u001b[37m=\u001b[37m=\u001b[37m=\u001b[37m=\u001b[37m=\u001b[37m=\u001b[37m=\u001b[37m=\u001b[37m=\u001b[37m=\u001b[37m=\u001b[37m=\u001b[37m=\u001b[37m=\u001b[37m=\u001b[37m=\u001b[37m=\u001b[37m=\u001b[37m=\u001b[37m=\u001b[37m=\u001b[37m=\u001b[37m=\u001b[37m=\n",
            " \n"
          ],
          "name": "stdout"
        }
      ]
    },
    {
      "cell_type": "markdown",
      "metadata": {
        "id": "xcxzMOjOhqTP"
      },
      "source": [
        "Exercício 64 - Tratando Vários Valores v1.0"
      ]
    },
    {
      "cell_type": "code",
      "metadata": {
        "id": "65mRST3Hhp6-"
      },
      "source": [
        "num = cont = soma = 0\n",
        "num = int(input('Digite um número [999 para parar]: '))\n",
        "while num != 999:\n",
        "  soma += num\n",
        "  cont += 1\n",
        "  num = int(input('Digite um número [999 para parar]: '))\n",
        "print('Você digitou {} números e a soma entre eles foi {}.'.format(cont, soma))"
      ],
      "execution_count": null,
      "outputs": []
    },
    {
      "cell_type": "markdown",
      "metadata": {
        "id": "HaNec9l5h1my"
      },
      "source": [
        "Exercício 65 - Maior e Menor Valores."
      ]
    },
    {
      "cell_type": "code",
      "metadata": {
        "id": "m9DBEuV3h1Vr"
      },
      "source": [
        "resp = 's'\n",
        "media = soma = quant = maior = menor = 0\n",
        "while resp in 'Ss':\n",
        "  num = int(input('Digite um número: '))\n",
        "  soma += num\n",
        "  quant += 1\n",
        "  if quant == 1:\n",
        "    maior = menor = num\n",
        "  else:\n",
        "      if num > maior:\n",
        "        maior = num\n",
        "      if num < menor:\n",
        "        menor = num\n",
        "  resp = str(input('Quer continuar? [S/N]')).upper().strip()[0]\n",
        "media = soma / quant\n",
        "print('Você digitou {} números e a média foi {}'.format(quant, media))\n",
        "print('O maior foi {} e o menor foi {}'.format(maior, menor))\n",
        "print('Acabou')\n"
      ],
      "execution_count": null,
      "outputs": []
    },
    {
      "cell_type": "markdown",
      "metadata": {
        "id": "vIECwCA-7-w3"
      },
      "source": [
        "# AULA 15 - *Interrompendo Repetições While*."
      ]
    },
    {
      "cell_type": "markdown",
      "metadata": {
        "id": "t2ORIwfqiHHD"
      },
      "source": [
        "Formatação com o 'f Strings' a partir do Python 3.6."
      ]
    },
    {
      "cell_type": "code",
      "metadata": {
        "id": "pjvjvGYfiGiP"
      },
      "source": [
        "nome = 'josé'\n",
        "idade = 33\n",
        "print(f'O {nome} tem {idade} anos.') # f strings \n",
        "print(f'{nome:20} tem {idade} anos.') # 20 espaços depois do nome.\n",
        "print(f'{nome:^20} tem {idade} anos.') # nome centralizado.\n",
        "print(f'{nome:-^20} tem {idade} anos.') # nome  centralizado com o caracter '-'.\n",
        "print(f'{nome:->20} tem {idade} anos.') # alinhado a direita com caracter - .\n",
        "print(f'{nome:-<20} tem {idade} anos.') # alinhado a esquerda com caracter - .\n"
      ],
      "execution_count": null,
      "outputs": []
    },
    {
      "cell_type": "markdown",
      "metadata": {
        "id": "SP2hZI03Ic7n"
      },
      "source": [
        "Exercício 66 - Vários Números com Flag.\n",
        "1.   Crie um programa que leia vários números inteiros.\n",
        "2.   O programa só vai parar quando digitar 999. E mostre:\n",
        "3.   Quantos números foram digitados.\n",
        "4.   A soma de todos eles excluindo o 999.\n"
      ]
    },
    {
      "cell_type": "code",
      "metadata": {
        "id": "y_Bb2TzNIcas"
      },
      "source": [
        "num = cont = soma = 0\n",
        "while True:\n",
        "  num = int(input('Entre com um número (999 p/parar): '))\n",
        "  if num == 999:\n",
        "    break\n",
        "  cont += 1\n",
        "  soma += num\n",
        "print(f'A soma dos {cont} números digitados foi {soma}!')\n"
      ],
      "execution_count": null,
      "outputs": []
    },
    {
      "cell_type": "markdown",
      "metadata": {
        "id": "zg5ZbePkiQOl"
      },
      "source": [
        "Exercício 67 - Tabuada v3.0\n",
        "1.   Faça um programa que mostre a tabuada de vários números, um de cada vez, para cada valor digitado pelo usuário. O programa será interrompido quando o número solicitado for negativo.\n"
      ]
    },
    {
      "cell_type": "code",
      "metadata": {
        "id": "wgVBu0lkiP27"
      },
      "source": [
        "while True:\n",
        "  num = int(input('Entre com um número (negativo p/parar): '))\n",
        "  if num < 0:\n",
        "    break\n",
        "  for c in range(1, 11):\n",
        "    print(f'{num} X {c} = {num*c:2}')\n",
        "print('-'*43)\n",
        "  \n",
        "\n"
      ],
      "execution_count": null,
      "outputs": []
    },
    {
      "cell_type": "markdown",
      "metadata": {
        "id": "fMtAK9GwiYWJ"
      },
      "source": [
        "Exercício 68 - Jogo do Par ou Impar.\n",
        "1. Faça um programa que jogue par ou impar.\n",
        "2. O jogo será interrompido quando o jogador perder.\n",
        "2. Ao final será mostrado o total de vitórias consecutivas\n"
      ]
    },
    {
      "cell_type": "code",
      "metadata": {
        "id": "36jtTNX1iX53"
      },
      "source": [
        "from random import randint\n",
        "v = 0\n",
        "while True:\n",
        "  jogador =  int(input('Diga um valor: '))\n",
        "  computador = randint(0,11)\n",
        "  total = jogador + computador\n",
        "  tipo = ' '\n",
        "  while tipo not in 'PpIi':\n",
        "    tipo = str(input('Par ou Impar? [P/I]: ')).strip().upper()[0]\n",
        "  print(f'VocÊ JOGOU {jogador} e o computador {computador}. Total de {total}')\n",
        "  if tipo == 'P':\n",
        "    if total % 2 == 0:\n",
        "      print('Você Venceu!!')\n",
        "      v += 1\n",
        "    else:\n",
        "      print('Você Perdeu!')\n",
        "      break\n",
        "  elif tipo == 'I':\n",
        "    if total % 2 != 0:\n",
        "      print('Você Venceu! ')\n",
        "      v += 1\n",
        "    else:\n",
        "      print('Você PERDEU!')\n",
        "      break\n",
        "  print('Vamos jogar novamente...')\n",
        "print(f'jOGO FINALIZADO! Você venceu {v} vezes!')\n"
      ],
      "execution_count": null,
      "outputs": []
    },
    {
      "cell_type": "markdown",
      "metadata": {
        "id": "WUE_jlfXifb6"
      },
      "source": [
        "Exercício 69 - Análise de Dados do Grupo.\n",
        "1. Crie um programa que leia a idade e sexo de várias pessoas.\n",
        "2. A cada registro o programa deverá perguntar se o usuário quer continuar ou não.\n",
        "3. Ao final o programa deverá mostrar:\n",
        "4. A) Quantas pessoas tem mais de 18 anos.\n",
        "5. B) Quantos homens foram cadastrados.\n",
        "6. C) Quantas mulheres tem menos de 2 anos.\n"
      ]
    },
    {
      "cell_type": "code",
      "metadata": {
        "id": "xHAIKd3DifER"
      },
      "source": [
        "tot18 = totH = totM20 = 0\n",
        "while True:\n",
        "    idade = int(input('Idade: '))\n",
        "    sexo = ' '\n",
        "    while sexo not in 'MF':\n",
        "        sexo = str(input('Sexo: [M/F] ')).strip().upper()[0]\n",
        "    if idade >= 18:\n",
        "        tot18 += 1\n",
        "    if sexo == 'M':\n",
        "        totH += 1\n",
        "    if sexo == 'F' and idade < 20:\n",
        "        totM20 += 1\n",
        "    resp = ' '\n",
        "    while resp not in 'SN':\n",
        "        resp = str(input('Quer continuar? [S/N] ')).strip().upper()[0]\n",
        "    if resp == 'N':\n",
        "      break\n",
        "print(f'Total de pessoas com mais de 18 anos: {tot18}')\n",
        "print(f'Ao todo temos {totH} homens cadastrados')\n",
        "print(f'E temos {totM20} mulheres com menos de 20 anos')\n"
      ],
      "execution_count": null,
      "outputs": []
    },
    {
      "cell_type": "markdown",
      "metadata": {
        "id": "ddaQfPvliosx"
      },
      "source": [
        "Exercício 70 - Estatísticas em Produtos.\n",
        "1. Crie um programa que leia o nome e o preço de vários produtos.\n",
        "2. O programa deverá perguntar se o usuário vai continuar.\n",
        "3. No final, Mostre:\n",
        "4. A) Qual o total gasto na compra.\n",
        "5. B) Quantos produtos custam mais de R$1000,00.\n",
        "6. C) Qual o nome do produto mais barato.\n"
      ]
    },
    {
      "cell_type": "code",
      "metadata": {
        "id": "Hxy5x65RioR8"
      },
      "source": [
        "totGasto = totP1000 = preço = totProd = menor = 0\n",
        "prodBarato = ' '\n",
        "while True:\n",
        "    produto = str(input('Nome do produto?: '))\n",
        "    preço = float(input('Preço: R$'))\n",
        "    if preço > 1000:\n",
        "        totP1000 += 1\n",
        "    totGasto += preço\n",
        "    totProd += 1\n",
        "    if totProd == 1 or preço < menor:\n",
        "      menor = preço\n",
        "      prodBarato = produto\n",
        "    resp = ' '\n",
        "    while resp not in 'SN':\n",
        "        resp = str(input('Quer continuar? [S/N] ')).strip().upper()[0]\n",
        "    if resp == 'N':\n",
        "      break\n",
        "print('{:-^40}'.format('FIM DO PROGRAMA'))\n",
        "print(f'Total gasto foi: {totGasto}')\n",
        "print(f'Ao todo temos {totP1000} produtos acima de R$1000,00.')\n",
        "print(f' O produto mais barato é o {prodBarato}')\n",
        "print(f'Ao todo foram comprados {totProd} produtos.')\n"
      ],
      "execution_count": null,
      "outputs": []
    },
    {
      "cell_type": "markdown",
      "metadata": {
        "id": "7AZ1Uqkwi31v"
      },
      "source": [
        "Exercício 71 - Simulador de Caixa Eletrônico.\n",
        "1. Crie um programa que simule um Caixa Eletrônico.\n",
        "2. No Início, pergunte ao usuário qual será o valor sacado\n",
        "3. O programa informará quantas cédulas de cada valor serão entregues.\n",
        "4. Considere que o Caixa possui cédulas de 50, 20, 10 e 1.\n"
      ]
    },
    {
      "cell_type": "code",
      "metadata": {
        "id": "R-IeW4sci3Pb"
      },
      "source": [
        "print('='*55)\n",
        "print('{:^55}'.format('BANCO GPAS'))\n",
        "print('='*55)\n",
        "print('\\033[33mNOTAS DISPONÍVEIS: R$1,00 / R$10,00/ R$20,00 e R$50,00\\033[31m')\n",
        "print('='*55)\n",
        "saque = int(input('Quanto deseja sacar?'))\n",
        "total = saque\n",
        "ced = 50\n",
        "totCed = 0\n",
        "while True:\n",
        "  if total >= ced:\n",
        "    total -= ced \n",
        "    totCed += 1\n",
        "  else:\n",
        "    if totCed > 0:\n",
        "      print(f'Total de {totCed} Cédulas de R${ced}')\n",
        "    if ced == 50:\n",
        "      ced = 20\n",
        "    elif ced == 20:\n",
        "      ced = 10\n",
        "    elif ced == 10:\n",
        "      ced = 1\n",
        "    totCed = 0\n",
        "    if total == 0:\n",
        "      break\n",
        "print('='*55)\n",
        "print('\\033[33mVolte sempre o banco GPAS agradece. Tenha um Bom Dia!')\n",
        "print('='*55)\n"
      ],
      "execution_count": null,
      "outputs": []
    },
    {
      "cell_type": "markdown",
      "metadata": {
        "id": "Zmp0ukX1bpFZ"
      },
      "source": [
        "********   BANCO VIRTUAL   *********"
      ]
    },
    {
      "cell_type": "code",
      "metadata": {
        "id": "mANYW09NdVRp"
      },
      "source": [
        "def notas(valor, ced):\n",
        "  totalced = valor // ced\n",
        "  resto = valor % ced\n",
        "  ret = (f'Total de {totalced} Cédulas de R${ced},00')\n",
        "  return ret,resto, totalced\n",
        "print('\\033[33m='*55)\n",
        "print('{:^55}'.format('BANCO GPAS'))\n",
        "print('='*55)\n",
        "print('\\033[33mNOTAS DISPONÍVEIS: R$1,00 / R$10,00/ R$20,00 e R$50,00\\033[31m')\n",
        "print('\\033[33m='*55)\n",
        "val01 = val10 = val20 = 0\n",
        "saque = int(input('\\033[31mQuanto deseja sacar? '))\n",
        "tipoNotas = 50\n",
        "retorno = notas(saque,tipoNotas)\n",
        "if retorno[2] > 0:\n",
        "  print(retorno[0])\n",
        "\n",
        "if retorno[1] > 0:\n",
        "    val20 = (retorno[1])\n",
        "    tipoNotas = 20\n",
        "    retorno = notas(val20, tipoNotas)\n",
        "if retorno[2] > 0 and val20 > 0:\n",
        "    print(retorno[0])\n",
        "\n",
        "if retorno[1] > 0:\n",
        "    val10 = (retorno[1])\n",
        "    tipoNotas = 10\n",
        "    retorno = notas(val10, tipoNotas)\n",
        "if retorno[2] > 0 and val10 > 0:\n",
        "    print(retorno[0])\n",
        "\n",
        "if retorno[1] > 0:\n",
        "    val01 = (retorno[1])\n",
        "    tipoNotas = 1\n",
        "    retorno = notas(val01,tipoNotas)\n",
        "    print(retorno[0],)\n",
        "\n",
        "print('\\033[33m='*55)\n",
        "print('Volte sempre o banco GPAS agradece. Tenha um Bom Dia!')\n",
        "print('='*55)\n"
      ],
      "execution_count": null,
      "outputs": []
    },
    {
      "cell_type": "code",
      "metadata": {
        "colab": {
          "base_uri": "https://localhost:8080/"
        },
        "id": "yRDS-tjbg0Of",
        "outputId": "fef882f3-9ad5-460b-c539-40f18f3b7d6a"
      },
      "source": [
        "from random import randint\n",
        "n = 0\n",
        "#for c in range(10, 101): \n",
        "n = randint(99, 101)\n",
        "print(n)\n",
        "\n",
        "\n"
      ],
      "execution_count": null,
      "outputs": [
        {
          "output_type": "stream",
          "text": [
            "101\n"
          ],
          "name": "stdout"
        }
      ]
    },
    {
      "cell_type": "code",
      "metadata": {
        "colab": {
          "base_uri": "https://localhost:8080/"
        },
        "id": "88neZVVljYjD",
        "outputId": "7e19c797-4878-4e1e-cba6-cd7a180eb7ab"
      },
      "source": [
        "n = 'aeiou'\n",
        "if n[0] in 'aeiou':\n",
        "  print('sim')\n",
        "  print(n[0])\n",
        "\n",
        "\n"
      ],
      "execution_count": null,
      "outputs": [
        {
          "output_type": "stream",
          "text": [
            "sim\n",
            "a\n"
          ],
          "name": "stdout"
        }
      ]
    }
  ]
}